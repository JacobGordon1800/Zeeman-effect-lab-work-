{
  "nbformat": 4,
  "nbformat_minor": 5,
  "metadata": {
    "kernelspec": {
      "display_name": "Python 3",
      "language": "python",
      "name": "python3"
    },
    "language_info": {
      "codemirror_mode": {
        "name": "ipython",
        "version": 3
      },
      "file_extension": ".py",
      "mimetype": "text/x-python",
      "name": "python",
      "nbconvert_exporter": "python",
      "pygments_lexer": "ipython3",
      "version": "3.8.8"
    },
    "colab": {
      "name": "Fabry-Perot Etalon.ipynb",
      "provenance": [],
      "collapsed_sections": []
    }
  },
  "cells": [
    {
      "cell_type": "code",
      "metadata": {
        "id": "88e36a38"
      },
      "source": [
        "%matplotlib inline\n",
        "import matplotlib.pyplot as plt\n",
        "import numpy as np\n",
        "from scipy.stats import linregress\n",
        "from scipy.optimize import least_squares\n",
        "from matplotlib.pyplot import figure"
      ],
      "id": "88e36a38",
      "execution_count": null,
      "outputs": []
    },
    {
      "cell_type": "code",
      "metadata": {
        "id": "f81f6d20"
      },
      "source": [
        "L0 = 643.847e-9 #inital wavelength\n",
        "\n",
        "d = 4e-3 #spacing\n",
        "\n",
        "n = 1.457 #Etalon \n",
        "\n",
        "f = 150e-3 #focal length \n",
        "\n",
        "n2 = np.square(n) #n squared"
      ],
      "id": "f81f6d20",
      "execution_count": null,
      "outputs": []
    },
    {
      "cell_type": "code",
      "metadata": {
        "id": "1d34f5f4",
        "colab": {
          "base_uri": "https://localhost:8080/"
        },
        "outputId": "c2b7d393-8956-4e8c-dcf9-125dd9384a19"
      },
      "source": [
        "kl = list(range(18090,18104)) #List of K values\n",
        "\n",
        "\n",
        "k = np.array(kl) #K values as array\n",
        "print(k)\n"
      ],
      "id": "1d34f5f4",
      "execution_count": null,
      "outputs": [
        {
          "output_type": "stream",
          "name": "stdout",
          "text": [
            "[18090 18091 18092 18093 18094 18095 18096 18097 18098 18099 18100 18101\n",
            " 18102 18103]\n"
          ]
        }
      ]
    },
    {
      "cell_type": "code",
      "metadata": {
        "id": "a5f1d14a",
        "colab": {
          "base_uri": "https://localhost:8080/"
        },
        "outputId": "1ac51e01-a0e6-4696-cf90-7ffdebc02357"
      },
      "source": [
        "a = np.arcsin(np.sqrt(n2 - (np.square((k*L0)/(2*d))))) #OPD equation (Etalon equation)\n",
        "print(a)\n",
        "\n",
        "rk = a*f #radi of fringes\n",
        "print(rk)\n",
        "\n"
      ],
      "id": "a5f1d14a",
      "execution_count": null,
      "outputs": [
        {
          "output_type": "stream",
          "name": "stdout",
          "text": [
            "[0.05666085 0.05454922 0.05235272 0.05006017 0.04765771 0.0451278\n",
            " 0.04244764 0.03958675 0.03650264 0.03313304 0.02937989 0.02507153\n",
            " 0.01984965 0.01262772]\n",
            "[0.00849913 0.00818238 0.00785291 0.00750903 0.00714866 0.00676917\n",
            " 0.00636715 0.00593801 0.0054754  0.00496996 0.00440698 0.00376073\n",
            " 0.00297745 0.00189416]\n"
          ]
        }
      ]
    },
    {
      "cell_type": "code",
      "metadata": {
        "id": "0a07913d",
        "colab": {
          "base_uri": "https://localhost:8080/"
        },
        "outputId": "f9fc8784-3852-4702-ecac-abf6520228a1"
      },
      "source": [
        "rk2 = np.array([1.5,1.6,1.7,1.8,1.9,2.0,2.1,2.2])*1e-3 #new fringe values\n",
        "print(rk2)\n",
        "\n"
      ],
      "id": "0a07913d",
      "execution_count": null,
      "outputs": [
        {
          "output_type": "stream",
          "name": "stdout",
          "text": [
            "[0.0015 0.0016 0.0017 0.0018 0.0019 0.002  0.0021 0.0022]\n"
          ]
        }
      ]
    },
    {
      "cell_type": "code",
      "metadata": {
        "id": "4e31c3bb",
        "colab": {
          "base_uri": "https://localhost:8080/"
        },
        "outputId": "26b9a3eb-7655-40d0-ba95-a45fea63fa86"
      },
      "source": [
        "a2 = rk2/f #new angles, (rK = fa)\n",
        "print(a2)\n",
        "fx = np.sin(a2) #sin of new angles\n",
        "\n",
        "L = (2*d/18103)*np.sqrt(n2-(fx**2)) #rearranged OPD equation\n",
        "\n",
        "print(L)\n",
        "\n"
      ],
      "id": "4e31c3bb",
      "execution_count": null,
      "outputs": [
        {
          "output_type": "stream",
          "name": "stdout",
          "text": [
            "[0.01       0.01066667 0.01133333 0.012      0.01266667 0.01333333\n",
            " 0.014      0.01466667]\n",
            "[6.43856017e-07 6.43853927e-07 6.43851703e-07 6.43849344e-07\n",
            " 6.43846851e-07 6.43844222e-07 6.43841459e-07 6.43838561e-07]\n"
          ]
        }
      ]
    },
    {
      "cell_type": "code",
      "metadata": {
        "id": "6f98246c",
        "colab": {
          "base_uri": "https://localhost:8080/"
        },
        "outputId": "331c7838-45ef-422a-9547-19b26134e9ad"
      },
      "source": [
        "DL = L - L0 #Delta Lamba values \n",
        "\n",
        "DLL0 = (DL/L0) #Delta lamba over Lamba 0\n",
        "\n",
        "print(DLL0)\n",
        "\n",
        "\n"
      ],
      "id": "6f98246c",
      "execution_count": null,
      "outputs": [
        {
          "output_type": "stream",
          "name": "stdout",
          "text": [
            "[ 1.40043179e-05  1.07592307e-05  7.30480418e-06  3.64104238e-06\n",
            " -2.32050525e-07 -4.31447007e-06 -8.60621157e-06 -1.31072701e-05]\n"
          ]
        }
      ]
    },
    {
      "cell_type": "code",
      "metadata": {
        "id": "644ad44b",
        "colab": {
          "base_uri": "https://localhost:8080/"
        },
        "outputId": "23263ce0-768b-4361-b797-743f1d53d74e"
      },
      "source": [
        "DLA = np.array((L/L0) -1) #Delta lamab over lamba 0 calculated independent of k and d\n",
        "\n",
        "DLA2 = (DLA)\n",
        "\n",
        "print(DLA2)\n",
        "\n",
        "\n"
      ],
      "id": "644ad44b",
      "execution_count": null,
      "outputs": [
        {
          "output_type": "stream",
          "name": "stdout",
          "text": [
            "[ 1.40043179e-05  1.07592307e-05  7.30480418e-06  3.64104238e-06\n",
            " -2.32050525e-07 -4.31447007e-06 -8.60621157e-06 -1.31072701e-05]\n"
          ]
        }
      ]
    },
    {
      "cell_type": "code",
      "metadata": {
        "id": "d4317509",
        "colab": {
          "base_uri": "https://localhost:8080/"
        },
        "outputId": "fbb567b7-d098-4c08-ed1f-0d3047f32ca4"
      },
      "source": [
        "#a values for Transverse waves\n",
        "\n",
        "Ti = np.array([119, 127.5, 122, 122, 121.5, 123.5, 127, 121, 121.5, 122, 120.5])\n",
        "\n",
        "Tm = np.array([135, 140, 140.5, 140, 140, 140, 140, 140, 140, 140.5, 140])\n",
        "\n",
        "To = np.array([148, 155, 156, 155, 155.5, 156, 155.5, 156.5, 157.5, 156.5, 158])\n",
        "\n",
        "#r values\n",
        "\n",
        "Tri = Ti*14e-6 \n",
        "\n",
        "Trm = Tm*14e-6\n",
        "\n",
        "Tro = To*14e-6\n",
        "\n",
        "\n",
        "#a values\n",
        "\n",
        "#a = r/f\n",
        "\n",
        "ai = Tri/f\n",
        "\n",
        "am = Trm/f\n",
        "\n",
        "ao = Tro/f\n",
        "\n",
        "print(ai)\n",
        "print(am)\n",
        "print(ao)\n"
      ],
      "id": "d4317509",
      "execution_count": null,
      "outputs": [
        {
          "output_type": "stream",
          "name": "stdout",
          "text": [
            "[0.01110667 0.0119     0.01138667 0.01138667 0.01134    0.01152667\n",
            " 0.01185333 0.01129333 0.01134    0.01138667 0.01124667]\n",
            "[0.0126     0.01306667 0.01311333 0.01306667 0.01306667 0.01306667\n",
            " 0.01306667 0.01306667 0.01306667 0.01311333 0.01306667]\n",
            "[0.01381333 0.01446667 0.01456    0.01446667 0.01451333 0.01456\n",
            " 0.01451333 0.01460667 0.0147     0.01460667 0.01474667]\n"
          ]
        }
      ]
    },
    {
      "cell_type": "code",
      "metadata": {
        "id": "4fa97c86",
        "colab": {
          "base_uri": "https://localhost:8080/"
        },
        "outputId": "e0ba0eb5-b080-4d0b-9e94-481da9a81f09"
      },
      "source": [
        "#Delta lamba / Lamba 0 for inside\n",
        "\n",
        "DLL0i = (np.sqrt(n2 - (np.sin(ai))**2))/(np.sqrt(n2 - (np.sin(am))**2)) -1\n",
        "\n",
        "print(DLL0i)\n",
        "\n",
        "#Delta lamba / Lamba 0 for outside\n",
        "\n",
        "\n",
        "DLL0o = (np.sqrt(n2 - (np.sin(ao))**2))/(np.sqrt(n2 - (np.sin(am))**2)) -1\n",
        "\n",
        "print(DLL0o)"
      ],
      "id": "4fa97c86",
      "execution_count": null,
      "outputs": [
        {
          "output_type": "stream",
          "name": "stdout",
          "text": [
            "[8.33811691e-06 6.86035319e-06 9.96356691e-06 9.67581578e-06\n",
            " 9.92561249e-06 8.92027120e-06 7.12143300e-06 1.01743835e-05\n",
            " 9.92561249e-06 9.96356691e-06 1.04221287e-05]\n",
            "[-7.54810188e-06 -9.07861532e-06 -9.42893175e-06 -9.07861532e-06\n",
            " -9.39713349e-06 -9.71667729e-06 -9.39713349e-06 -1.00372467e-05\n",
            " -1.06814625e-05 -9.74950128e-06 -1.10051089e-05]\n"
          ]
        }
      ]
    },
    {
      "cell_type": "code",
      "metadata": {
        "id": "aaa68010",
        "colab": {
          "base_uri": "https://localhost:8080/"
        },
        "outputId": "94052ea1-37c9-4771-ec79-213ff98d463d"
      },
      "source": [
        "#Delta E\n",
        "\n",
        "h = 6.63e-34\n",
        "\n",
        "c = 3e8\n",
        "\n",
        "DEi = -((h*c)/(643.847e-9))*DLL0i\n",
        "\n",
        "print(DEi)\n",
        "\n",
        "DEo = -((h*c)/(643.847e-9))*DLL0o \n",
        "\n",
        "print(DEo)"
      ],
      "id": "aaa68010",
      "execution_count": null,
      "outputs": [
        {
          "output_type": "stream",
          "name": "stdout",
          "text": [
            "[-2.57584714e-24 -2.11932998e-24 -3.07798818e-24 -2.98909486e-24\n",
            " -3.06626314e-24 -2.75568876e-24 -2.19998389e-24 -3.14311454e-24\n",
            " -3.06626314e-24 -3.07798818e-24 -3.21964907e-24]\n",
            "[2.33179228e-24 2.80460511e-24 2.91282638e-24 2.80460511e-24\n",
            " 2.90300312e-24 3.00171798e-24 2.90300312e-24 3.10074967e-24\n",
            " 3.29976360e-24 3.01185810e-24 3.39974583e-24]\n"
          ]
        }
      ]
    },
    {
      "cell_type": "code",
      "metadata": {
        "id": "4d4131b9",
        "colab": {
          "base_uri": "https://localhost:8080/"
        },
        "outputId": "c64e009f-a215-4177-ed93-eb18e9dcb3ca"
      },
      "source": [
        "#B\n",
        "\n",
        "A = np.array([6.0, 6.2, 6.4, 6.6, 6.8, 7.0, 7.2, 7.4, 7.6, 7.8, 8.0])\n",
        "\n",
        "B = (-0.9421*(A**3) + 6.1937*(A**2) + 86.975*(A) + 7.3701)*1e-3\n",
        "\n",
        "print(B)\n"
      ],
      "id": "4d4131b9",
      "execution_count": null,
      "outputs": [
        {
          "output_type": "stream",
          "name": "stdout",
          "text": [
            "[0.5486997  0.56017212 0.57073819 0.58035269 0.5889704  0.5965461\n",
            " 0.60303457 0.60839058 0.61256892 0.61552437 0.6172117 ]\n"
          ]
        }
      ]
    },
    {
      "cell_type": "code",
      "metadata": {
        "id": "c658b15f",
        "colab": {
          "base_uri": "https://localhost:8080/"
        },
        "outputId": "a46d6595-2b7b-4ca4-a7d9-909455726412"
      },
      "source": [
        "#error on B\n",
        "\n",
        "Berr = 7*1e-3\n",
        "\n",
        "print(Berr)\n",
        "\n"
      ],
      "id": "c658b15f",
      "execution_count": null,
      "outputs": [
        {
          "output_type": "stream",
          "name": "stdout",
          "text": [
            "0.007\n"
          ]
        }
      ]
    },
    {
      "cell_type": "code",
      "metadata": {
        "id": "3112f501"
      },
      "source": [
        "#x and y data outer\n",
        "\n",
        "xData = DEo\n",
        "\n",
        "yData = B"
      ],
      "id": "3112f501",
      "execution_count": null,
      "outputs": []
    },
    {
      "cell_type": "code",
      "metadata": {
        "id": "1299c51d",
        "colab": {
          "base_uri": "https://localhost:8080/"
        },
        "outputId": "dd390ea4-a809-4c13-f46c-e750b9bbbfa3"
      },
      "source": [
        "#error on radi for outside\n",
        "\n",
        "ererr = 14e-6/2 \n",
        "\n",
        "focalerr = 1e-3\n",
        "\n",
        "aoerr = np.sqrt((ererr/Tro)**2 + (focalerr/f)**2) * ao\n",
        "\n",
        "a0err = np.sqrt((ererr/Trm)**2 + (focalerr/f)**2) * am\n",
        "\n",
        "\n",
        "#error on outside fringes\n",
        "\n",
        "dfao = -(np.cos(ao) * np.sin(ao)) / (n2 * np.sqrt(1 - (np.sin(ao))**2/n2))\n",
        "\n",
        "\n",
        "\n",
        "dfam = (np.cos(am) * np.sin(am)) / (n2 * (1 - (np.sin(am))**2/n2)**3/2)\n",
        "\n",
        "\n",
        "dfao2 = dfao / np.sqrt(1 - (np.sin(am)/n)**2) * aoerr\n",
        "\n",
        "dfam2 = dfam * np.sqrt(1 - ((np.sin(ao)/n)**2)) * a0err\n",
        "\n",
        "\n",
        "\n",
        "ferr2 = np.sqrt((dfao2**2) + (dfam2**2))\n",
        "\n",
        "Eferr = -(h*c*ferr2)/643.847e-9\n",
        "\n",
        "print(Eferr)\n"
      ],
      "id": "1299c51d",
      "execution_count": null,
      "outputs": [
        {
          "output_type": "stream",
          "name": "stdout",
          "text": [
            "[-4.08974229e-25 -4.38338007e-25 -4.41747839e-25 -4.38338007e-25\n",
            " -4.39018087e-25 -4.39703232e-25 -4.39018087e-25 -4.40393457e-25\n",
            " -4.41789202e-25 -4.42434873e-25 -4.42494749e-25]\n"
          ]
        }
      ]
    },
    {
      "cell_type": "code",
      "metadata": {
        "id": "22291462"
      },
      "source": [
        "#x and y data inner\n",
        "\n",
        "xData2 = DEi\n",
        "\n",
        "yData2 = B"
      ],
      "id": "22291462",
      "execution_count": null,
      "outputs": []
    },
    {
      "cell_type": "code",
      "metadata": {
        "id": "38c684c1",
        "colab": {
          "base_uri": "https://localhost:8080/"
        },
        "outputId": "826ec633-1038-4f85-ce4e-bc5f5a93d8d7"
      },
      "source": [
        "#error on radi for inside\n",
        "\n",
        "aierr = np.sqrt((ererr/Tri)**2 + (focalerr/f)**2) * ai\n",
        "\n",
        "a0err = np.sqrt((ererr/Trm)**2 + (focalerr/f)**2) * am\n",
        "\n",
        "\n",
        "#error on inside fringes\n",
        "\n",
        "dfai = -(np.cos(ai) * np.sin(ai)) / (n2 * np.sqrt(1 - (np.sin(ai))**2/n2))\n",
        "\n",
        "\n",
        "\n",
        "dfam = (np.cos(am) * np.sin(am)) / (n2 * (1 - (np.sin(am))**2/n2)**3/2)\n",
        "\n",
        "\n",
        "dfai2 = dfai / np.sqrt(1 - (np.sin(am)/n)**2) * aierr\n",
        "\n",
        "dfam2 = dfam * np.sqrt(1 - ((np.sin(ai)/n)**2)) * a0err\n",
        "\n",
        "\n",
        "\n",
        "ferr2 = np.sqrt((dfai2**2) + (dfam2**2))\n",
        "\n",
        "Eferr2 = -(h*c*ferr2)/643.847e-9\n",
        "\n",
        "print(Eferr2)"
      ],
      "id": "38c684c1",
      "execution_count": null,
      "outputs": [
        {
          "output_type": "stream",
          "name": "stdout",
          "text": [
            "[-3.79752219e-25 -4.08261312e-25 -4.06051024e-25 -4.03825657e-25\n",
            " -4.03445853e-25 -4.04988166e-25 -4.07838151e-25 -4.03069863e-25\n",
            " -4.03445853e-25 -4.06051024e-25 -4.02697665e-25]\n"
          ]
        }
      ]
    },
    {
      "cell_type": "code",
      "metadata": {
        "id": "41e25721"
      },
      "source": [
        "#Errors on x and y data for outside\n",
        "\n",
        "xerr = Berr\n",
        "\n",
        "yerr = Eferr"
      ],
      "id": "41e25721",
      "execution_count": null,
      "outputs": []
    },
    {
      "cell_type": "code",
      "metadata": {
        "id": "c5dda461"
      },
      "source": [
        "#Erros on x and y data for inside \n",
        "\n",
        "xerr = Berr\n",
        "\n",
        "yerr2 = Eferr2"
      ],
      "id": "c5dda461",
      "execution_count": null,
      "outputs": []
    },
    {
      "cell_type": "code",
      "metadata": {
        "id": "3175458f",
        "colab": {
          "base_uri": "https://localhost:8080/",
          "height": 329
        },
        "outputId": "06665d1d-d5a5-4ae3-a469-1954936acd8a"
      },
      "source": [
        "#Delta E vs B outer\n",
        "\n",
        "plt.plot(yData, xData, color = 'r', linestyle = '', marker = '.')\n",
        "m, b = np.polyfit(yData, xData, 1)\n",
        "plt.plot(yData, m*yData + b)\n",
        "plt.errorbar(yData, xData, yerr, xerr, fmt='rx')\n",
        "plt.title(\"Graph of Delta E vs B for a Transverse wave (outside fringes)\")\n",
        "plt.ylabel(\"Delta E (J)\")\n",
        "plt.xlabel(\"B (mT)\")\n",
        "plt.grid()\n",
        "plt.show()\n",
        "\n",
        "\n",
        "#Chi squared for Transvere with outside fringes\n",
        "\n",
        "nPoints = len(yData)\n",
        "nPars = 2\n",
        "\n",
        "yDataE = (1.0222959231487883e-23 * B) + (-3.090740972255894e-24)\n",
        "\n",
        "chi = np.sum(((xData - yDataE)**2)/(yerr**2))\n",
        "\n",
        "NDF = nPoints - nPars\n",
        "chisqndf = chi/NDF\n",
        "\n",
        "print(\"chi squared value =\",chisqndf)\n",
        "\n",
        "linregress(yData, xData)\n"
      ],
      "id": "3175458f",
      "execution_count": null,
      "outputs": [
        {
          "output_type": "display_data",
          "data": {
            "image/png": "[encoded data removed]",
            "text/plain": [
              "<Figure size 432x288 with 1 Axes>"
            ]
          },
          "metadata": {
            "needs_background": "light"
          }
        },
        {
          "output_type": "stream",
          "name": "stdout",
          "text": [
            "chi squared value = 0.12284696635051574\n"
          ]
        },
        {
          "output_type": "execute_result",
          "data": {
            "text/plain": [
              "LinregressResult(slope=1.0222959231487883e-23, intercept=-3.090740972255894e-24, rvalue=0.8561722191494187, pvalue=0.000768752965454093, stderr=2.056481307560916e-24)"
            ]
          },
          "metadata": {},
          "execution_count": 38
        }
      ]
    },
    {
      "cell_type": "code",
      "metadata": {
        "id": "60594fbc",
        "colab": {
          "base_uri": "https://localhost:8080/",
          "height": 329
        },
        "outputId": "21dbffe6-846d-4b4d-8f38-d7e27ddc70bd"
      },
      "source": [
        "#Delta E vs B inner\n",
        "\n",
        "plt.plot(yData2, xData2, color = 'r', linestyle = '', marker = '.')\n",
        "m, b = np.polyfit(yData2, xData2, 1)\n",
        "plt.plot(yData2, m*yData2 + b)\n",
        "plt.errorbar(yData2, xData2, yerr2, xerr, fmt='rx')\n",
        "plt.title(\"Graph of Delta E vs B for a Transverse wave (inside fringes)\")\n",
        "plt.ylabel(\"Delta E (J)\")\n",
        "plt.xlabel(\"B (mT)\")\n",
        "plt.grid()\n",
        "plt.show()\n",
        "\n",
        "#Chi squared for Transvere with inside fringes\n",
        "\n",
        "nPoints = len(yData2)\n",
        "nPars = 2\n",
        "\n",
        "yDataE2 = (-8.052931181419107e-24 * B) + (1.915512133182535e-24)\n",
        "\n",
        "chi = np.sum(((xData2 - yDataE2)**2)/(yerr2**2))\n",
        "\n",
        "NDF = nPoints - nPars\n",
        "chisqndf = chi/NDF\n",
        "\n",
        "print(\"chi squared value =\",chisqndf)\n",
        "\n",
        "\n",
        "linregress(yData2, xData2)\n"
      ],
      "id": "60594fbc",
      "execution_count": null,
      "outputs": [
        {
          "output_type": "display_data",
          "data": {
            "image/png": "[encoded data removed]",
            "text/plain": [
              "<Figure size 432x288 with 1 Axes>"
            ]
          },
          "metadata": {
            "needs_background": "light"
          }
        },
        {
          "output_type": "stream",
          "name": "stdout",
          "text": [
            "chi squared value = 0.7538982682249765\n"
          ]
        },
        {
          "output_type": "execute_result",
          "data": {
            "text/plain": [
              "LinregressResult(slope=-8.052931181419107e-24, intercept=1.915512133182535e-24, rvalue=-0.49095812703155317, pvalue=0.12516092081165567, stderr=4.763188370194843e-24)"
            ]
          },
          "metadata": {},
          "execution_count": 39
        }
      ]
    },
    {
      "cell_type": "code",
      "metadata": {
        "id": "3a083ee6",
        "colab": {
          "base_uri": "https://localhost:8080/"
        },
        "outputId": "f1c59fa1-d317-497e-a7a9-9a6d57eb2fe7"
      },
      "source": [
        "#a values for longatudinal waves\n",
        "\n",
        "Li = np.array([114, 113.5, 113.5, 111.5, 113.5, 111, 113.5, 110, 113, 111, 111.5])\n",
        "\n",
        "Lm = np.array([131.5, 133, 129.5, 132, 127.5, 133.5, 133.5, 134.5, 133.5, 133, 135.5])\n",
        "\n",
        "Lo = np.array([150, 150, 151, 151.5, 151.5, 152, 152.5, 153, 153, 153, 153])\n",
        "\n",
        "#r values\n",
        "\n",
        "Lri = Li*14e-6 \n",
        "\n",
        "Lrm = Lm*14e-6\n",
        "\n",
        "Lro = Lo*14e-6\n",
        "\n",
        "\n",
        "#a values\n",
        "\n",
        "#a = r/f\n",
        "\n",
        "ai2 = Lri/f\n",
        "\n",
        "am2 = Lrm/f\n",
        "\n",
        "ao2 = Lro/f\n",
        "\n",
        "print(ai2)\n",
        "print(am2)\n",
        "print(ao2)\n"
      ],
      "id": "3a083ee6",
      "execution_count": null,
      "outputs": [
        {
          "output_type": "stream",
          "name": "stdout",
          "text": [
            "[0.01064    0.01059333 0.01059333 0.01040667 0.01059333 0.01036\n",
            " 0.01059333 0.01026667 0.01054667 0.01036    0.01040667]\n",
            "[0.01227333 0.01241333 0.01208667 0.01232    0.0119     0.01246\n",
            " 0.01246    0.01255333 0.01246    0.01241333 0.01264667]\n",
            "[0.014      0.014      0.01409333 0.01414    0.01414    0.01418667\n",
            " 0.01423333 0.01428    0.01428    0.01428    0.01428   ]\n"
          ]
        }
      ]
    },
    {
      "cell_type": "code",
      "metadata": {
        "id": "2b1a8f90",
        "colab": {
          "base_uri": "https://localhost:8080/"
        },
        "outputId": "6f69e50d-4bee-4613-e8aa-cb00ebda9553"
      },
      "source": [
        "#Delta lamba / Lamba 0 for inside\n",
        "\n",
        "DLL0i2 = (np.sqrt(n2 - (np.sin(ai2))**2))/(np.sqrt(n2 - (np.sin(am2))**2)) -1\n",
        "\n",
        "print(DLL0i2)\n",
        "\n",
        "#Delta lamba / Lamba 0 for outside\n",
        "\n",
        "\n",
        "DLL0o2 = (np.sqrt(n2 - (np.sin(ao2))**2))/(np.sqrt(n2 - (np.sin(am2))**2)) -1\n",
        "\n",
        "print(DLL0o2)"
      ],
      "id": "2b1a8f90",
      "execution_count": null,
      "outputs": [
        {
          "output_type": "stream",
          "name": "stdout",
          "text": [
            "[8.81464255e-06 9.86204133e-06 7.97703450e-06 1.02416153e-05\n",
            " 6.92245679e-06 1.12869638e-05 1.01354315e-05 1.22902552e-05\n",
            " 1.03677895e-05 1.10135733e-05 1.21625292e-05]\n",
            "[-1.06845820e-05 -9.87058280e-06 -1.23730979e-05 -1.13421327e-05\n",
            " -1.37379650e-05 -1.08363943e-05 -1.11487574e-05 -1.09123002e-05\n",
            " -1.14621462e-05 -1.17355305e-05 -1.03583508e-05]\n"
          ]
        }
      ]
    },
    {
      "cell_type": "code",
      "metadata": {
        "id": "1cc2b0b3",
        "colab": {
          "base_uri": "https://localhost:8080/"
        },
        "outputId": "5bc9fb7b-a4ba-405b-c7fa-a0ac977cdd0a"
      },
      "source": [
        "#Delta E \n",
        "\n",
        "DEi2 = -((h*c)/(643.847e-9))*DLL0i2\n",
        "\n",
        "print(DEi2)\n",
        "\n",
        "DEo2 = -((h*c)/(643.847e-9))*DLL0o2 \n",
        "\n",
        "print(DEo2)\n",
        "\n",
        "\n",
        "\n"
      ],
      "id": "1cc2b0b3",
      "execution_count": null,
      "outputs": [
        {
          "output_type": "stream",
          "name": "stdout",
          "text": [
            "[-2.72305750e-24 -3.04662446e-24 -2.46430000e-24 -3.16388408e-24\n",
            " -2.13851529e-24 -3.48681768e-24 -3.13108133e-24 -3.79675878e-24\n",
            " -3.20286237e-24 -3.40236071e-24 -3.75730112e-24]\n",
            "[3.30072729e-24 3.04926313e-24 3.82235092e-24 3.50386070e-24\n",
            " 4.24399158e-24 3.34762578e-24 3.44412237e-24 3.37107498e-24\n",
            " 3.54093579e-24 3.62539084e-24 3.19994653e-24]\n"
          ]
        }
      ]
    },
    {
      "cell_type": "code",
      "metadata": {
        "id": "390cfd27"
      },
      "source": [
        "#Longaudinal outside fringes\n",
        "\n",
        "xData3 = DEo2\n",
        "\n",
        "yData3 = B"
      ],
      "id": "390cfd27",
      "execution_count": null,
      "outputs": []
    },
    {
      "cell_type": "code",
      "metadata": {
        "id": "174f1448",
        "colab": {
          "base_uri": "https://localhost:8080/"
        },
        "outputId": "1388655c-fba3-404c-c885-3883e3feb79f"
      },
      "source": [
        "#Errors on Longatudinal (outside)\n",
        "\n",
        "aoerr2 = np.sqrt((ererr/Lro)**2 + (focalerr/f)**2) * ao2\n",
        "\n",
        "a0err2 = np.sqrt((ererr/Lrm)**2 + (focalerr/f)**2) * am2\n",
        "\n",
        "\n",
        "#error on outside fringes\n",
        "\n",
        "dfao2 = -(np.cos(ao2) * np.sin(ao2)) / (n2 * np.sqrt(1 - (np.sin(ao2))**2/n2))\n",
        "\n",
        "\n",
        "\n",
        "dfam2 = (np.cos(am2) * np.sin(am2)) / (n2 * (1 - (np.sin(am2))**2/n2)**3/2)\n",
        "\n",
        "\n",
        "dfao3 = dfao2 / np.sqrt(1 - (np.sin(am2)/n)**2) * aoerr2\n",
        "\n",
        "dfam3 = dfam2 * np.sqrt(1 - ((np.sin(ao2)/n)**2)) * a0err2\n",
        "\n",
        "\n",
        "\n",
        "ferr3 = np.sqrt((dfao3**2) + (dfam3**2))\n",
        "\n",
        "Eferr3 = -(h*c*ferr3)/643.847e-9\n",
        "\n",
        "print(Eferr3)\n",
        "\n",
        "yerr3 = Eferr3"
      ],
      "id": "174f1448",
      "execution_count": null,
      "outputs": [
        {
          "output_type": "stream",
          "name": "stdout",
          "text": [
            "[-3.98023025e-25 -4.03765018e-25 -3.91914063e-25 -4.01983150e-25\n",
            " -3.85323607e-25 -4.08413805e-25 -4.09105042e-25 -4.13664612e-25\n",
            " -4.09801435e-25 -4.07885776e-25 -4.17570203e-25]\n"
          ]
        }
      ]
    },
    {
      "cell_type": "code",
      "metadata": {
        "id": "6dc8afca",
        "colab": {
          "base_uri": "https://localhost:8080/",
          "height": 329
        },
        "outputId": "5ace2213-be0c-48c7-bd92-4059fdc35920"
      },
      "source": [
        "#Delta E vs B for Longatduinal outside\n",
        "\n",
        "plt.plot(yData3, xData3, color = 'r', linestyle = '', marker = '.')\n",
        "m, b = np.polyfit(yData3, xData3, 1)\n",
        "plt.plot(yData3, m*yData3 + b)\n",
        "plt.errorbar(yData3, xData3, yerr3, xerr, fmt='rx')\n",
        "plt.title(\"Graph of Delta E vs B for a Longaudinal wave (outside fringes)\")\n",
        "plt.ylabel(\"Delta E (J)\")\n",
        "plt.xlabel(\"B (mT)\")\n",
        "plt.grid()\n",
        "plt.show()\n",
        "\n",
        "\n",
        "#Chi squared for Longatudinal with outside fringes\n",
        "\n",
        "nPoints = len(yData3)\n",
        "nPars = 2\n",
        "\n",
        "yDataE3 = (1.1967226863414342e-24 * B) + (2.7879953157870643e-24)\n",
        "\n",
        "chi = np.sum(((xData3 - yDataE3)**2)/(yerr3**2))\n",
        "\n",
        "NDF = nPoints - nPars\n",
        "chisqndf = chi/NDF\n",
        "\n",
        "print(\"chi squared value =\",chisqndf)\n",
        "\n",
        "linregress(yData3, xData3)\n"
      ],
      "id": "6dc8afca",
      "execution_count": null,
      "outputs": [
        {
          "output_type": "display_data",
          "data": {
            "image/png": "[encoded data removed]",
            "text/plain": [
              "<Figure size 432x288 with 1 Axes>"
            ]
          },
          "metadata": {
            "needs_background": "light"
          }
        },
        {
          "output_type": "stream",
          "name": "stdout",
          "text": [
            "chi squared value = 0.7478623865285237\n"
          ]
        },
        {
          "output_type": "execute_result",
          "data": {
            "text/plain": [
              "LinregressResult(slope=1.1967226863414342e-24, intercept=2.7879953157870643e-24, rvalue=0.08658713992204575, pvalue=0.8001604251615426, stderr=4.589704403174192e-24)"
            ]
          },
          "metadata": {},
          "execution_count": 40
        }
      ]
    },
    {
      "cell_type": "code",
      "metadata": {
        "id": "965c88e3"
      },
      "source": [
        "#Longaudinal inside fringes\n",
        "\n",
        "xData4 = DEi2\n",
        "\n",
        "yData4 = B"
      ],
      "id": "965c88e3",
      "execution_count": null,
      "outputs": []
    },
    {
      "cell_type": "code",
      "metadata": {
        "id": "81ebffc5",
        "colab": {
          "base_uri": "https://localhost:8080/"
        },
        "outputId": "b38ac921-9222-4e20-fdd5-99b3ab942655"
      },
      "source": [
        "#Errors on Longatudinal (inside)\n",
        "\n",
        "aierr2 = np.sqrt((ererr/Lri)**2 + (focalerr/f)**2) * ai2\n",
        "\n",
        "a0err2 = np.sqrt((ererr/Lrm)**2 + (focalerr/f)**2) * am2\n",
        "\n",
        "\n",
        "#error on outside fringes\n",
        "\n",
        "dfai2 = -(np.cos(ai2) * np.sin(ai2)) / (n2 * np.sqrt(1 - (np.sin(ai2))**2/n2))\n",
        "\n",
        "\n",
        "\n",
        "dfam2 = (np.cos(am2) * np.sin(am2)) / (n2 * (1 - (np.sin(am2))**2/n2)**3/2)\n",
        "\n",
        "\n",
        "dfai3 = dfai2 / np.sqrt(1 - (np.sin(am2)/n)**2) * aierr2\n",
        "\n",
        "dfam3 = dfam2 * np.sqrt(1 - ((np.sin(ai2)/n)**2)) * a0err2\n",
        "\n",
        "\n",
        "\n",
        "ferr3 = np.sqrt((dfai3**2) + (dfam3**2))\n",
        "\n",
        "Eferr4 = -(h*c*ferr3)/643.847e-9\n",
        "\n",
        "print(Eferr4)\n",
        "\n",
        "yerr4 = Eferr4"
      ],
      "id": "81ebffc5",
      "execution_count": null,
      "outputs": [
        {
          "output_type": "stream",
          "name": "stdout",
          "text": [
            "[-3.61272873e-25 -3.67241367e-25 -3.52621464e-25 -3.61644865e-25\n",
            " -3.44477192e-25 -3.67691838e-25 -3.69367949e-25 -3.71354931e-25\n",
            " -3.69025445e-25 -3.65555501e-25 -3.76651651e-25]\n"
          ]
        }
      ]
    },
    {
      "cell_type": "code",
      "metadata": {
        "id": "86ed4be3",
        "colab": {
          "base_uri": "https://localhost:8080/",
          "height": 329
        },
        "outputId": "c11a8bd7-5628-414f-83ed-1b00c2fd0726"
      },
      "source": [
        "#Delta E vs B for Longatduinal inside\n",
        "\n",
        "plt.plot(yData4, xData4, color = 'r', linestyle = '', marker = '.')\n",
        "m, b = np.polyfit(yData4, xData4, 1)\n",
        "plt.plot(yData4, m*yData4 + b)\n",
        "plt.errorbar(yData4, xData4, yerr4, xerr, fmt='rx')\n",
        "plt.title(\"Graph of Delta E vs B for a Longatudinal wave (inside fringes)\")\n",
        "plt.ylabel(\"Delta E (J)\")\n",
        "plt.xlabel(\"B (mT)\")\n",
        "plt.grid()\n",
        "plt.show()\n",
        "\n",
        "#Chi squared for Longatudinal with inside fringes\n",
        "\n",
        "nPoints = len(yData4)\n",
        "nPars = 2\n",
        "\n",
        "yDataE4 = (-1.331398491160366e-23 * B) + (4.750613973848489e-24)\n",
        "\n",
        "chi = np.sum(((xData4 - yDataE4)**2)/(yerr4**2))\n",
        "\n",
        "NDF = nPoints - nPars\n",
        "chisqndf = chi/NDF\n",
        "\n",
        "print(\"chi squared value =\",chisqndf)\n",
        "\n",
        "linregress(yData4, xData4)\n"
      ],
      "id": "86ed4be3",
      "execution_count": null,
      "outputs": [
        {
          "output_type": "display_data",
          "data": {
            "image/png": "[encoded data removed]",
            "text/plain": [
              "<Figure size 432x288 with 1 Axes>"
            ]
          },
          "metadata": {
            "needs_background": "light"
          }
        },
        {
          "output_type": "stream",
          "name": "stdout",
          "text": [
            "chi squared value = 1.4810467665916596\n"
          ]
        },
        {
          "output_type": "execute_result",
          "data": {
            "text/plain": [
              "LinregressResult(slope=-1.3313984911560366e-23, intercept=4.750613973848489e-24, rvalue=-0.6072508158089263, pvalue=0.04754658171343594, stderr=5.8065500260156384e-24)"
            ]
          },
          "metadata": {},
          "execution_count": 41
        }
      ]
    },
    {
      "cell_type": "code",
      "metadata": {
        "id": "0998ad13"
      },
      "source": [
        ""
      ],
      "id": "0998ad13",
      "execution_count": null,
      "outputs": []
    }
  ]
}